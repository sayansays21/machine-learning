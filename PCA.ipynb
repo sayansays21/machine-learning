{
 "cells": [
  {
   "cell_type": "markdown",
   "metadata": {},
   "source": [
    "# extracting dataset"
   ]
  },
  {
   "cell_type": "code",
   "execution_count": 15,
   "metadata": {},
   "outputs": [],
   "source": [
    "from sklearn.datasets import make_blobs\n",
    "x,y = make_blobs(n_samples=50,n_features=10,centers=2,random_state=19)\n",
    "import numpy as np\n"
   ]
  },
  {
   "cell_type": "markdown",
   "metadata": {},
   "source": [
    "# define the PCA"
   ]
  },
  {
   "cell_type": "code",
   "execution_count": 16,
   "metadata": {},
   "outputs": [],
   "source": [
    "class PCA(object):\n",
    "    def __init__(self,x,k):\n",
    "        self.x=x\n",
    "        self.k=k\n",
    "    def mu(self):\n",
    "        mu=np.zeros((self.x.shape[0],1))\n",
    "        for i in range(self.x.shape[0]):\n",
    "            mu[i]=(1/self.x.shape[1])*sum(self.x[i])\n",
    "        return(mu)\n",
    "    def A(self):\n",
    "        A=self.x-self.mu()\n",
    "        return(A)\n",
    "    def sigma(self):\n",
    "        sigma=np.dot(self.A().T,self.A())\n",
    "        return(sigma)\n",
    "    def PCA_final(self):\n",
    "        eig_val,eig_vec=np.linalg.eig(self.sigma())\n",
    "        final=np.dot(self.x,eig_vec[:,:self.k])#org matrix(50,10)*factor elements(10,k=2)\n",
    "        return(final)"
   ]
  },
  {
   "cell_type": "markdown",
   "metadata": {},
   "source": [
    "# calling the class with input as dataset and k=2"
   ]
  },
  {
   "cell_type": "code",
   "execution_count": 17,
   "metadata": {},
   "outputs": [
    {
     "data": {
      "text/plain": [
       "array([[ -3.89800547, -10.91767563],\n",
       "       [ -4.14865978, -11.83777897],\n",
       "       [ -4.70217274, -11.81409641],\n",
       "       [-20.41505286,   3.23345412],\n",
       "       [-20.09692623,   3.19900345],\n",
       "       [-21.12846495,   3.02279146],\n",
       "       [ -6.6048005 , -11.60100129],\n",
       "       [-18.8728708 ,   2.68202442],\n",
       "       [-19.66244984,   2.72180669],\n",
       "       [-18.31153818,   4.10927775],\n",
       "       [-19.96510579,   3.46637159],\n",
       "       [-19.4035273 ,   1.88335826],\n",
       "       [ -5.51731485, -10.28447519],\n",
       "       [-19.84096072,   1.99309316],\n",
       "       [ -5.07194144, -12.75811817],\n",
       "       [ -7.08852347, -10.96986468],\n",
       "       [-21.40655268,   3.25447217],\n",
       "       [ -4.39612204, -12.57892183],\n",
       "       [ -4.39050975, -11.57287648],\n",
       "       [ -5.07744578, -11.8910836 ],\n",
       "       [ -7.83445986, -10.55302982],\n",
       "       [-18.29075123,   2.560804  ],\n",
       "       [ -3.98797762, -11.49961184],\n",
       "       [-19.87288343,   1.31268906],\n",
       "       [ -4.50505686,  -9.29880613],\n",
       "       [-19.41691788,   1.46393275],\n",
       "       [-19.07042618,   2.93309304],\n",
       "       [ -5.12948899, -11.17716792],\n",
       "       [-19.5902012 ,   2.04750401],\n",
       "       [ -6.14034242, -11.61110212],\n",
       "       [ -4.44201463, -12.05222168],\n",
       "       [-20.78405228,   2.00860603],\n",
       "       [-20.67155994,   3.8926246 ],\n",
       "       [ -4.22649591,  -9.88572813],\n",
       "       [-21.22178168,   2.92839313],\n",
       "       [ -5.65222011, -10.22055461],\n",
       "       [-19.39276022,   2.74267299],\n",
       "       [-19.45490312,   4.42261901],\n",
       "       [-20.5452142 ,   2.6398934 ],\n",
       "       [ -4.65541575, -11.70706088],\n",
       "       [ -6.13705845,  -9.91136224],\n",
       "       [ -7.59978802, -10.53006987],\n",
       "       [-19.30245683,   1.3204825 ],\n",
       "       [-21.41117792,   5.39740269],\n",
       "       [ -4.5352199 , -11.87876406],\n",
       "       [ -4.0172921 , -12.12826228],\n",
       "       [ -5.65435022, -11.02226579],\n",
       "       [-20.07156953,   4.8019795 ],\n",
       "       [-20.26397123,   2.28136602],\n",
       "       [ -4.01370753, -11.32220019]])"
      ]
     },
     "execution_count": 17,
     "metadata": {},
     "output_type": "execute_result"
    }
   ],
   "source": [
    "p=PCA(x,2)\n",
    "p.PCA_final()"
   ]
  },
  {
   "cell_type": "code",
   "execution_count": null,
   "metadata": {},
   "outputs": [],
   "source": []
  }
 ],
 "metadata": {
  "kernelspec": {
   "display_name": "Python 3",
   "language": "python",
   "name": "python3"
  },
  "language_info": {
   "codemirror_mode": {
    "name": "ipython",
    "version": 3
   },
   "file_extension": ".py",
   "mimetype": "text/x-python",
   "name": "python",
   "nbconvert_exporter": "python",
   "pygments_lexer": "ipython3",
   "version": "3.6.5"
  }
 },
 "nbformat": 4,
 "nbformat_minor": 2
}
