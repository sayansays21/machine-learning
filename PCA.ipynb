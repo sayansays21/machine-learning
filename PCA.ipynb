{
 "cells": [
  {
   "cell_type": "markdown",
   "metadata": {},
   "source": [
    "# extracting dataset"
   ]
  },
  {
   "cell_type": "code",
   "execution_count": 14,
   "metadata": {},
   "outputs": [
    {
     "data": {
      "text/plain": [
       "array([1, 1, 1, 0, 0, 0, 1, 0, 0, 0, 0, 0, 1, 0, 1, 1, 0, 1, 1, 1, 1, 0,\n",
       "       1, 0, 1, 0, 0, 1, 0, 1, 1, 0, 0, 1, 0, 1, 0, 0, 0, 1, 1, 1, 0, 0,\n",
       "       1, 1, 1, 0, 0, 1])"
      ]
     },
     "execution_count": 14,
     "metadata": {},
     "output_type": "execute_result"
    },
    {
     "data": {
      "image/png": "[encoded data removed]",
      "text/plain": [
       "<Figure size 432x288 with 1 Axes>"
      ]
     },
     "metadata": {},
     "output_type": "display_data"
    }
   ],
   "source": [
    "from sklearn.datasets import make_blobs\n",
    "x,y = make_blobs(n_samples=50,n_features=10,centers=2,random_state=19)\n",
    "import numpy as np\n"
   ]
  },
  {
   "cell_type": "markdown",
   "metadata": {},
   "source": [
    "# define the PCA"
   ]
  },
  {
   "cell_type": "code",
   "execution_count": 4,
   "metadata": {},
   "outputs": [],
   "source": [
    "class PCA(object):\n",
    "    def __init__(self,x,k):\n",
    "        self.x=x\n",
    "        self.k=k\n",
    "    def mu(self):\n",
    "        mu=np.zeros((self.x.shape[0],1))\n",
    "        for i in range(self.x.shape[0]):\n",
    "            mu[i]=(1/self.x.shape[1])*sum(self.x[i])\n",
    "        return(mu)\n",
    "    def A(self):\n",
    "        A=self.x-self.mu()\n",
    "        return(A)\n",
    "    def sigma(self):\n",
    "        sigma=np.dot(self.A().T,self.A())\n",
    "        return(sigma)\n",
    "    def PCA_final(self):\n",
    "        eig_val,eig_vec=np.linalg.eig(self.sigma())\n",
    "        final=np.dot(self.x,eig_vec[:,:self.k])#org matrix(50,10)*factor elements(10,k=2)\n",
    "        return(final)"
   ]
  },
  {
   "cell_type": "markdown",
   "metadata": {},
   "source": [
    "# calling the class with input as dataset and k=2"
   ]
  },
  {
   "cell_type": "code",
   "execution_count": 11,
   "metadata": {},
   "outputs": [],
   "source": [
    "p=PCA(x,2)\n",
    "p.PCA_final()"
   ]
  },
  {
   "cell_type": "code",
   "execution_count": null,
   "metadata": {},
   "outputs": [],
   "source": []
  }
 ],
 "metadata": {
  "kernelspec": {
   "display_name": "Python 3",
   "language": "python",
   "name": "python3"
  },
  "language_info": {
   "codemirror_mode": {
    "name": "ipython",
    "version": 3
   },
   "file_extension": ".py",
   "mimetype": "text/x-python",
   "name": "python",
   "nbconvert_exporter": "python",
   "pygments_lexer": "ipython3",
   "version": "3.6.5"
  }
 },
 "nbformat": 4,
 "nbformat_minor": 2
}
