{
 "cells": [
  {
   "cell_type": "code",
   "execution_count": 1,
   "metadata": {},
   "outputs": [
    {
     "data": {
      "text/plain": [
       "array([[1, 2, 3],\n",
       "       [1, 4, 5],\n",
       "       [3, 0, 3]])"
      ]
     },
     "execution_count": 1,
     "metadata": {},
     "output_type": "execute_result"
    }
   ],
   "source": [
    "import numpy as np\n",
    "data = np.array([[1,2,3],[1,4,5],[3,0,3]])\n",
    "data"
   ]
  },
  {
   "cell_type": "code",
   "execution_count": 2,
   "metadata": {},
   "outputs": [],
   "source": [
    "class GS(object):\n",
    "    def __init__ (self,x):\n",
    "        self.x=x\n",
    "    def projection(self,v,u):\n",
    "        return (((v.dot(u))/(u.dot(u)))*u)\n",
    "    def final_projected_matrix(self):\n",
    "        a=np.zeros(self.x.shape)\n",
    "        o_nom=np.zeros(self.x.shape)\n",
    "        a[0]=self.x[0]\n",
    "        for i in range(1,len(self.x)):\n",
    "            b=0\n",
    "            for j in range(i):\n",
    "                b=b+self.projection(self.x[i],self.x[j])\n",
    "            a[i]=self.x[i]-b\n",
    "        for i in range(len(self.x)):\n",
    "            o_nom[i]=a[i]/((a[i].dot(a[i]))**0.5)\n",
    "        return o_nom\n",
    "                \n",
    "            \n",
    "    "
   ]
  },
  {
   "cell_type": "code",
   "execution_count": 3,
   "metadata": {},
   "outputs": [
    {
     "data": {
      "text/plain": [
       "array([[ 0.26726124,  0.53452248,  0.80178373],\n",
       "       [-0.77151675,  0.6172134 , -0.15430335],\n",
       "       [ 0.40824829, -0.81649658, -0.40824829]])"
      ]
     },
     "execution_count": 3,
     "metadata": {},
     "output_type": "execute_result"
    }
   ],
   "source": [
    "model=GS(data)\n",
    "model.final_projected_matrix()"
   ]
  },
  {
   "cell_type": "code",
   "execution_count": null,
   "metadata": {
    "scrolled": true
   },
   "outputs": [],
   "source": []
  },
  {
   "cell_type": "code",
   "execution_count": null,
   "metadata": {},
   "outputs": [],
   "source": []
  }
 ],
 "metadata": {
  "kernelspec": {
   "display_name": "Python 3",
   "language": "python",
   "name": "python3"
  },
  "language_info": {
   "codemirror_mode": {
    "name": "ipython",
    "version": 3
   },
   "file_extension": ".py",
   "mimetype": "text/x-python",
   "name": "python",
   "nbconvert_exporter": "python",
   "pygments_lexer": "ipython3",
   "version": "3.7.0"
  }
 },
 "nbformat": 4,
 "nbformat_minor": 2
}
