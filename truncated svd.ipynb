{
 "cells": [
  {
   "cell_type": "code",
   "execution_count": 14,
   "metadata": {},
   "outputs": [],
   "source": [
    "import numpy as np\n",
    "class SVD_PCA(object):\n",
    "    '''\n",
    "        This is truncated SVD\n",
    "    '''\n",
    "    def __init__(self,x,k):\n",
    "        self.x = x\n",
    "        self.k = k\n",
    "    def compute_eigvec(self):\n",
    "        '''\n",
    "        Compute the eigen vector of X.T.dot(X). Remember the eigen vectors must be in \n",
    "        descending order of the eigen values\n",
    "        '''\n",
    "        s=np.dot(self.x.T,self.x)\n",
    "        eig_val,eig_vec=np.linalg.eig(s)\n",
    "        eig=[[eig_val[i],eig_vec[i]] for i in range(len(eig_val))]\n",
    "        eig.sort(key=lambda x: x[0],reverse=True)\n",
    "        e=np.array([eig[i][1] for i in range(self.k)])\n",
    "        return (e.T)\n",
    "    def fit(self):\n",
    "        '''\n",
    "            Call the function compute_eigen above and find dimensionality reduced matrix as explained yesterday\n",
    "    '''\n",
    "        final=np.dot(self.x,self.compute_eigvec())\n",
    "        return(final)"
   ]
  },
  {
   "cell_type": "code",
   "execution_count": 15,
   "metadata": {},
   "outputs": [
    {
     "data": {
      "text/plain": [
       "(50, 10)"
      ]
     },
     "execution_count": 15,
     "metadata": {},
     "output_type": "execute_result"
    }
   ],
   "source": [
    "from sklearn.datasets import make_blobs\n",
    "x,y = make_blobs(n_samples=50,n_features=10,centers=2,random_state=19)\n",
    "x.shape"
   ]
  },
  {
   "cell_type": "code",
   "execution_count": 16,
   "metadata": {},
   "outputs": [
    {
     "data": {
      "text/plain": [
       "array([[-5.87963968, -2.90649544],\n",
       "       [-3.34285064, -0.24966346],\n",
       "       [-4.73649561, -1.51340151],\n",
       "       [-2.04088222, 14.88178874],\n",
       "       [-3.16262891, 13.34590515],\n",
       "       [-2.38362633, 14.3974854 ],\n",
       "       [-5.12085543,  1.06029579],\n",
       "       [-0.45825426, 13.81580574],\n",
       "       [-1.5767276 , 13.73445776],\n",
       "       [-1.14210642, 13.51163701],\n",
       "       [-1.52736995, 15.28013873],\n",
       "       [-3.63326301, 12.7691728 ],\n",
       "       [-5.79038842,  0.05047134],\n",
       "       [-1.36548546, 12.53117637],\n",
       "       [-6.00405521, -3.02816303],\n",
       "       [-3.75189593,  1.10989543],\n",
       "       [-1.66384841, 16.1230688 ],\n",
       "       [-4.57573849, -2.5836228 ],\n",
       "       [-2.08078633, -1.54312038],\n",
       "       [-5.24777193, -1.07868446],\n",
       "       [-4.73841253, -0.34271546],\n",
       "       [-1.67338477, 11.7443076 ],\n",
       "       [-3.31444498, -2.4566958 ],\n",
       "       [-1.2538034 , 14.03336548],\n",
       "       [-2.68735223, -0.29448701],\n",
       "       [-1.37168405, 13.7379839 ],\n",
       "       [-2.38127377, 13.57812178],\n",
       "       [-5.20265679, -1.16971521],\n",
       "       [-3.50509428, 13.5825256 ],\n",
       "       [-2.68000783, -0.87949427],\n",
       "       [-5.46389466, -2.25993586],\n",
       "       [-2.50966611, 15.80218153],\n",
       "       [-1.59728078, 13.84684715],\n",
       "       [-4.47884881, -0.72634734],\n",
       "       [-1.9885575 , 14.5836565 ],\n",
       "       [-4.29672063,  0.3098651 ],\n",
       "       [-0.21050779, 14.65751527],\n",
       "       [-1.30825468, 13.89576077],\n",
       "       [-2.26227836, 13.95475406],\n",
       "       [-3.66707067, -2.12611102],\n",
       "       [-4.49771339,  0.5282881 ],\n",
       "       [-3.4244222 ,  0.46848321],\n",
       "       [ 0.14081387, 12.95185559],\n",
       "       [-5.17995162, 14.90538792],\n",
       "       [-4.56838901, -2.17142363],\n",
       "       [-6.35084974, -2.238251  ],\n",
       "       [-4.22351478, -1.14418833],\n",
       "       [-1.54339043, 14.2983524 ],\n",
       "       [-2.21043798, 14.30364489],\n",
       "       [-3.997629  , -3.18720064]])"
      ]
     },
     "execution_count": 16,
     "metadata": {},
     "output_type": "execute_result"
    }
   ],
   "source": [
    "A=SVD_PCA(x,2)\n",
    "A.fit()"
   ]
  },
  {
   "cell_type": "code",
   "execution_count": null,
   "metadata": {},
   "outputs": [],
   "source": []
  }
 ],
 "metadata": {
  "kernelspec": {
   "display_name": "Python 3",
   "language": "python",
   "name": "python3"
  },
  "language_info": {
   "codemirror_mode": {
    "name": "ipython",
    "version": 3
   },
   "file_extension": ".py",
   "mimetype": "text/x-python",
   "name": "python",
   "nbconvert_exporter": "python",
   "pygments_lexer": "ipython3",
   "version": "3.6.5"
  }
 },
 "nbformat": 4,
 "nbformat_minor": 2
}
