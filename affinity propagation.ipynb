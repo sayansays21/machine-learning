{
 "cells": [
  {
   "cell_type": "code",
   "execution_count": 1,
   "metadata": {},
   "outputs": [],
   "source": [
    "import pandas as pd\n",
    "import numpy as np"
   ]
  },
  {
   "cell_type": "markdown",
   "metadata": {},
   "source": [
    "# creating the data set"
   ]
  },
  {
   "cell_type": "code",
   "execution_count": 2,
   "metadata": {},
   "outputs": [],
   "source": [
    "d = {}\n",
    "d['Participant'] = ['Alice','Bob','Cary','Doug','Edna']\n",
    "d['Tax Rate'] = [3,4,3,2,1]\n",
    "d['Fee'] = [4,3,5,1,1]\n",
    "d['Interest Rate'] = [3,5,3,3,3]\n",
    "d['Quantity Limit'] = [2,1,3,3,2]\n",
    "d['Price Limit'] = [1,1,3,2,3]\n",
    "df = pd.DataFrame(d)"
   ]
  },
  {
   "cell_type": "markdown",
   "metadata": {},
   "source": [
    "# transforming the dataset to a matrix"
   ]
  },
  {
   "cell_type": "code",
   "execution_count": 3,
   "metadata": {},
   "outputs": [
    {
     "name": "stderr",
     "output_type": "stream",
     "text": [
      "C:\\Users\\HP\\Anaconda3\\lib\\site-packages\\ipykernel_launcher.py:1: FutureWarning: Method .as_matrix will be removed in a future version. Use .values instead.\n",
      "  \"\"\"Entry point for launching an IPython kernel.\n"
     ]
    },
    {
     "data": {
      "text/plain": [
       "array([[3, 4, 3, 2, 1],\n",
       "       [4, 3, 5, 1, 1],\n",
       "       [3, 5, 3, 3, 3],\n",
       "       [2, 1, 3, 3, 2],\n",
       "       [1, 1, 3, 2, 3]], dtype=int64)"
      ]
     },
     "execution_count": 3,
     "metadata": {},
     "output_type": "execute_result"
    }
   ],
   "source": [
    "df_mtx=df.as_matrix(columns=df.columns[1:])\n",
    "df_mtx"
   ]
  },
  {
   "cell_type": "markdown",
   "metadata": {},
   "source": [
    "# similarity matrix"
   ]
  },
  {
   "cell_type": "code",
   "execution_count": 4,
   "metadata": {},
   "outputs": [
    {
     "data": {
      "text/plain": [
       "array([[-22.,  -7.,  -6., -12., -17.],\n",
       "       [ -7., -22., -17., -17., -22.],\n",
       "       [ -6., -17., -22., -18., -21.],\n",
       "       [-12., -17., -18., -22.,  -3.],\n",
       "       [-17., -22., -21.,  -3., -22.]])"
      ]
     },
     "execution_count": 4,
     "metadata": {},
     "output_type": "execute_result"
    }
   ],
   "source": [
    "sim_mtx=np.zeros(df_mtx.shape)\n",
    "def similarity_matrix():\n",
    "    for i in range(len(df_mtx)):\n",
    "        for j in range(len(df_mtx)):\n",
    "            sim_mtx[i][j]=-sum((df_mtx[i]-df_mtx[j])**2)\n",
    "    for k in range(len(df_mtx)):\n",
    "        sim_mtx[k][k]=sim_mtx.min()\n",
    "    return sim_mtx  \n",
    "similarity_matrix()\n"
   ]
  },
  {
   "cell_type": "markdown",
   "metadata": {},
   "source": [
    "# Responsibilty matrix"
   ]
  },
  {
   "cell_type": "code",
   "execution_count": 5,
   "metadata": {},
   "outputs": [
    {
     "data": {
      "text/plain": [
       "array([[-16.,  -1.,   1.,  -6., -11.],\n",
       "       [ 10., -15., -10., -10., -15.],\n",
       "       [ 11., -11., -16., -12., -15.],\n",
       "       [ -9., -14., -15., -19.,   9.],\n",
       "       [-14., -19., -18.,  14., -19.]])"
      ]
     },
     "execution_count": 5,
     "metadata": {},
     "output_type": "execute_result"
    }
   ],
   "source": [
    "res_mtx=np.zeros(df_mtx.shape)\n",
    "def responsibilty_matrix():\n",
    "    for i in range(len(df_mtx)):\n",
    "        for j in range(len(df_mtx)):\n",
    "            res_mtx[i][j]=similarity_matrix()[i][j]-np.delete(similarity_matrix()[i],j).max()\n",
    "    return(res_mtx)\n",
    "responsibilty_matrix()"
   ]
  },
  {
   "cell_type": "markdown",
   "metadata": {},
   "source": [
    "# Availibility matrix"
   ]
  },
  {
   "cell_type": "code",
   "execution_count": 6,
   "metadata": {},
   "outputs": [
    {
     "data": {
      "text/plain": [
       "array([[ 21., -15., -16.,  -5., -10.],\n",
       "       [ -5.,   0., -15.,  -5., -10.],\n",
       "       [ -6., -15.,   1.,  -5., -10.],\n",
       "       [  0., -15., -15.,  14., -19.],\n",
       "       [  0., -15., -15., -19.,   9.]])"
      ]
     },
     "execution_count": 6,
     "metadata": {},
     "output_type": "execute_result"
    }
   ],
   "source": [
    "avail_mtx=np.zeros(df_mtx.shape)\n",
    "def availibility_matrix():\n",
    "    for i in range(len(df_mtx)):\n",
    "        for j in range(len(df_mtx)):\n",
    "            if i==j:\n",
    "                avail_mtx[i][j]=sum([k[j] for k in responsibilty_matrix() if k[j]>0])\n",
    "            else:\n",
    "                avail_mtx[i][j]=min(0,sum(list(set([k[j] for k in responsibilty_matrix() if k[j]>0]+[responsibilty_matrix()[j][j],])-set([responsibilty_matrix()[i][j],]))))\n",
    "            \n",
    "    return(avail_mtx)\n",
    "availibility_matrix()"
   ]
  },
  {
   "cell_type": "markdown",
   "metadata": {},
   "source": [
    "#  mentioning the parameters and calculating Criterion matrix"
   ]
  },
  {
   "cell_type": "code",
   "execution_count": 24,
   "metadata": {},
   "outputs": [],
   "source": [
    "damping=0.8 #noise for converge\n",
    "n=100 #no. of iterations\n",
    "def criterion_matrix():\n",
    "    avail_mtx=np.zeros(df_mtx.shape)\n",
    "    res_mtx=np.zeros(df_mtx.shape)\n",
    "    for i in range(n):\n",
    "        similarity_matrix()\n",
    "        if i==0:\n",
    "            responsibilty_matrix()\n",
    "            availibility_matrix()\n",
    "        else:\n",
    "            res_mtx=damping*res_mtx +(1-damping)*responsibilty_matrix()\n",
    "            avail_mtx=damping*avail_mtx+(1-damping)*availibility_matrix()\n",
    "    c_mtx=res_mtx+avail_mtx\n",
    "    return(c_mtx)"
   ]
  },
  {
   "cell_type": "markdown",
   "metadata": {},
   "source": [
    "# forming clusters "
   ]
  },
  {
   "cell_type": "code",
   "execution_count": 26,
   "metadata": {},
   "outputs": [
    {
     "data": {
      "text/plain": [
       "[0, 0, 0, 3, 3]"
      ]
     },
     "execution_count": 26,
     "metadata": {},
     "output_type": "execute_result"
    }
   ],
   "source": [
    "clusters=[np.argmax(i) for i in criterion_matrix()]\n",
    "clusters"
   ]
  },
  {
   "cell_type": "code",
   "execution_count": null,
   "metadata": {},
   "outputs": [],
   "source": []
  }
 ],
 "metadata": {
  "kernelspec": {
   "display_name": "Python 3",
   "language": "python",
   "name": "python3"
  },
  "language_info": {
   "codemirror_mode": {
    "name": "ipython",
    "version": 3
   },
   "file_extension": ".py",
   "mimetype": "text/x-python",
   "name": "python",
   "nbconvert_exporter": "python",
   "pygments_lexer": "ipython3",
   "version": "3.6.5"
  }
 },
 "nbformat": 4,
 "nbformat_minor": 2
}
